{
 "cells": [
  {
   "cell_type": "code",
   "execution_count": 9,
   "metadata": {},
   "outputs": [],
   "source": [
    "#from ..legogram.core import LegoGram\n",
    "import os\n",
    "import sys\n",
    "module_path = os.path.abspath(os.path.join('..'))\n",
    "if module_path not in sys.path:\n",
    "    sys.path.append(module_path)\n",
    "from legogram.core import LegoGram    \n",
    "from legogram.grammar import *\n",
    "import random"
   ]
  },
  {
   "cell_type": "code",
   "execution_count": 2,
   "metadata": {},
   "outputs": [],
   "source": [
    "grammar = LegoGram.load(\"../models/250k_unoptimized.bin\")\n",
    "grammar.calculate_compatibility_hashes()\n"
   ]
  },
  {
   "cell_type": "code",
   "execution_count": 3,
   "metadata": {},
   "outputs": [
    {
     "data": {
      "text/plain": [
       "array([0., 0., 0., ..., 0., 0., 0.], dtype=float32)"
      ]
     },
     "execution_count": 3,
     "metadata": {},
     "output_type": "execute_result"
    }
   ],
   "source": [
    "def sample(logits,placeholder_idx, state=None):\n",
    "    if not state:\n",
    "        batch_len = logits.shape[0]\n",
    "        graphs   = [None]*batch_len     #Prepare an array for graphs \n",
    "        finished = [False]*batch_len\n",
    "        return graphs,finished,None\n",
    "    \n",
    "    graphs,finished = state \n",
    "    current = [None]*batch_len\n",
    "    for i in range(len(graphs)):\n",
    "             graph = graphs[i]\n",
    "             if graph and (not finished[i]):\n",
    "                    mask = self.get_compatible_rules_mask(graph)\n",
    "                    if mask.sum() == 0.:\n",
    "                        finished[i] = True\n",
    "                        #print(Chem.MolToSmiles(grammar.graph2mol(graph)))\n",
    "                        current[i] = placeholder_idx\n",
    "                        continue\n",
    "\n",
    "                    logits_of_a_rule = logits[i]*mask\n",
    "                    prob = logits_of_a_rule\n",
    "                    prob = F.softmax(logits_of_a_rule)\n",
    "                    prob *= mask\n",
    "                    #log_prob = F.log_softmax(logits[])\n",
    "                    current[i] = torch.multinomial(prob, num_samples=1).view(-1)\n",
    "#                    print(x[i])\n",
    "                    if not self.check_compat(graphs[i],self.voc.rules[current[i]]):\n",
    "                        raise Exception(\"Failed to combine rules!\")\n",
    "                    graphs[i] = self.combine_rules(graphs[i],self.rules[current[i]])\n",
    "                    \n",
    "                elif (not graph):\n",
    "                    prob = F.softmax(logits[i])\n",
    "                    current[i] = torch.multinomial(prob, num_samples=1).view(-1)\n",
    "                    #if x[i] > len(self.rules): print(\"failed\",x[i],len(self.voc.rules))\n",
    "                    graphs[i] = self.rules[current[i]]\n",
    "                else:\n",
    "                    current[i] = placeholder_idx\n",
    "    return state,finished,current\n",
    "            # x = Variable(torch.LongTensor(x_acc))\n",
    "    \n",
    "    "
   ]
  },
  {
   "cell_type": "code",
   "execution_count": 218,
   "metadata": {},
   "outputs": [
    {
     "name": "stdout",
     "output_type": "stream",
     "text": [
      "True\n",
      "True\n",
      "True\n",
      "True\n",
      "True\n",
      "True\n",
      "True\n",
      "True\n",
      "True\n",
      "True\n",
      "True\n",
      "True\n",
      "True\n",
      "True\n",
      "True\n",
      "True\n",
      "True\n",
      "True\n",
      "True\n",
      "True\n",
      "True\n",
      "True\n",
      "True\n",
      "True\n",
      "True\n",
      "True\n",
      "True\n",
      "True\n",
      "True\n",
      "True\n",
      "True\n",
      "True\n",
      "True\n",
      "True\n",
      "True\n",
      "True\n",
      "True\n",
      "True\n",
      "True\n",
      "True\n",
      "True\n",
      "True\n",
      "True\n",
      "True\n",
      "True\n",
      "True\n",
      "True\n",
      "True\n",
      "True\n",
      "True\n",
      "True\n",
      "True\n",
      "True\n",
      "True\n",
      "True\n",
      "True\n",
      "True\n",
      "True\n",
      "True\n",
      "True\n",
      "True\n",
      "True\n",
      "True\n",
      "True\n",
      "True\n",
      "True\n",
      "True\n",
      "True\n",
      "True\n",
      "True\n",
      "True\n",
      "True\n",
      "True\n",
      "True\n",
      "True\n",
      "True\n",
      "True\n",
      "True\n",
      "True\n",
      "True\n",
      "True\n",
      "True\n",
      "True\n",
      "True\n",
      "True\n",
      "True\n",
      "True\n",
      "True\n",
      "True\n",
      "True\n",
      "True\n",
      "True\n",
      "True\n",
      "True\n",
      "True\n",
      "True\n",
      "True\n",
      "True\n",
      "True\n",
      "True\n",
      "True\n",
      "True\n",
      "True\n",
      "True\n",
      "True\n",
      "True\n",
      "True\n",
      "True\n",
      "True\n",
      "True\n",
      "True\n",
      "True\n",
      "True\n",
      "True\n",
      "True\n",
      "True\n",
      "True\n",
      "True\n",
      "True\n",
      "True\n"
     ]
    }
   ],
   "source": [
    "res = grammar.rules[random.randint(0,grammar.size())]\n",
    "softmax = lambda x: np.exp(x)/sum(np.exp(x))\n",
    "mask = grammar.get_compatible_rules_mask(res)\n",
    "for rule in np.nonzero(mask)[0]:\n",
    "    print(check_compat(res,grammar.rules[rule]))"
   ]
  },
  {
   "cell_type": "code",
   "execution_count": 228,
   "metadata": {},
   "outputs": [
    {
     "data": {
      "text/plain": [
       "'\\nres = grammar.rules[random.randint(0,grammar.size())]\\nwhile True:\\n    softmax = lambda x: np.exp(x)/sum(np.exp(x))\\n    mask = grammar.get_compatible_rules_mask(res)\\n    if mask.sum() < 1.: break\\n    logits = np.random.uniform(size=grammar.size())\\n    logits *= mask\\n    probs = softmax(logits)\\n    rule_idx = np.argmax(probs)\\n    print(res)\\n    res = combine_rules(res, grammar.rules[rule_idx])\\n'"
      ]
     },
     "execution_count": 228,
     "metadata": {},
     "output_type": "execute_result"
    }
   ],
   "source": [
    "'''\n",
    "res = grammar.rules[random.randint(0,grammar.size())]\n",
    "while True:\n",
    "    softmax = lambda x: np.exp(x)/sum(np.exp(x))\n",
    "    mask = grammar.get_compatible_rules_mask(res)\n",
    "    if mask.sum() < 1.: break\n",
    "    logits = np.random.uniform(size=grammar.size())\n",
    "    logits *= mask\n",
    "    probs = softmax(logits)\n",
    "    rule_idx = np.argmax(probs)\n",
    "    print(res)\n",
    "    res = combine_rules(res, grammar.rules[rule_idx])\n",
    "'''    "
   ]
  },
  {
   "cell_type": "code",
   "execution_count": 1,
   "metadata": {},
   "outputs": [
    {
     "ename": "NameError",
     "evalue": "name 'np' is not defined",
     "output_type": "error",
     "traceback": [
      "\u001b[0;31m---------------------------------------------------------------------------\u001b[0m",
      "\u001b[0;31mNameError\u001b[0m                                 Traceback (most recent call last)",
      "\u001b[0;32m<ipython-input-1-7e3ed7eb96dc>\u001b[0m in \u001b[0;36m<module>\u001b[0;34m\u001b[0m\n\u001b[0;32m----> 1\u001b[0;31m \u001b[0mnp\u001b[0m\u001b[0;34m.\u001b[0m\u001b[0margmax\u001b[0m\u001b[0;34m(\u001b[0m\u001b[0mnp\u001b[0m\u001b[0;34m.\u001b[0m\u001b[0mrandom\u001b[0m\u001b[0;34m.\u001b[0m\u001b[0mmultinomial\u001b[0m\u001b[0;34m(\u001b[0m\u001b[0;36m20\u001b[0m\u001b[0;34m,\u001b[0m\u001b[0;34m[\u001b[0m\u001b[0;36m0.1\u001b[0m\u001b[0;34m,\u001b[0m\u001b[0;36m0.9\u001b[0m\u001b[0;34m]\u001b[0m\u001b[0;34m)\u001b[0m\u001b[0;34m)\u001b[0m\u001b[0;34m\u001b[0m\u001b[0;34m\u001b[0m\u001b[0m\n\u001b[0m",
      "\u001b[0;31mNameError\u001b[0m: name 'np' is not defined"
     ]
    }
   ],
   "source": [
    "np.argmax(np.random.multinomial(20,[0.1,0.9]))"
   ]
  },
  {
   "cell_type": "code",
   "execution_count": 4,
   "metadata": {},
   "outputs": [],
   "source": [
    "#grammar = LegoGram('../data/250k_rndm_zinc_drugs_clean.smi',maxpart = 100, nworkers=6)"
   ]
  },
  {
   "cell_type": "code",
   "execution_count": 5,
   "metadata": {},
   "outputs": [],
   "source": [
    "#grammar.dump('../models/ChEMBL_unoptimized.bin')\n",
    "#grammar.encode('O=C1[C@H]2[C@@H]3C=C[C@@H](C3)[C@H]2C(=O)N1CN(C(=O)C(F)(F)F)c1cccc(C(F)(F)F)c1')"
   ]
  },
  {
   "cell_type": "code",
   "execution_count": 6,
   "metadata": {},
   "outputs": [],
   "source": [
    "#draw(grammar.rules[0])"
   ]
  }
 ],
 "metadata": {
  "kernelspec": {
   "display_name": "Python 3",
   "language": "python",
   "name": "python3"
  },
  "language_info": {
   "codemirror_mode": {
    "name": "ipython",
    "version": 3
   },
   "file_extension": ".py",
   "mimetype": "text/x-python",
   "name": "python",
   "nbconvert_exporter": "python",
   "pygments_lexer": "ipython3",
   "version": "3.7.3"
  }
 },
 "nbformat": 4,
 "nbformat_minor": 2
}
